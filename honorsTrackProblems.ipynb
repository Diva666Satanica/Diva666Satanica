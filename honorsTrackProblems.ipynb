{
  "nbformat": 4,
  "nbformat_minor": 0,
  "metadata": {
    "colab": {
      "name": "honorsTrackProblems.ipynb",
      "provenance": [],
      "authorship_tag": "ABX9TyMWUPgjxUnTAvvcUhNGrOg9",
      "include_colab_link": true
    },
    "kernelspec": {
      "name": "python3",
      "display_name": "Python 3"
    },
    "language_info": {
      "name": "python"
    }
  },
  "cells": [
    {
      "cell_type": "markdown",
      "metadata": {
        "id": "view-in-github",
        "colab_type": "text"
      },
      "source": [
        "<a href=\"https://colab.research.google.com/github/Diva666Satanica/Diva666Satanica/blob/main/honorsTrackProblems.ipynb\" target=\"_parent\"><img src=\"https://colab.research.google.com/assets/colab-badge.svg\" alt=\"Open In Colab\"/></a>"
      ]
    },
    {
      "cell_type": "code",
      "execution_count": 1,
      "metadata": {
        "id": "DR3Jdl5_zWZt"
      },
      "outputs": [],
      "source": [
        "import random\n",
        "import math"
      ]
    },
    {
      "cell_type": "markdown",
      "source": [
        "Week1 : 1.2.1"
      ],
      "metadata": {
        "id": "G--LPjd60CmS"
      }
    },
    {
      "cell_type": "code",
      "source": [
        "def PatternCount(Text,Pattern):\n",
        "    count = 0\n",
        "    for i in range(len(Text)-len(Pattern)+1):\n",
        "        if Text[i:i+len(Pattern)] == Pattern:\n",
        "            count = count+1\n",
        "    return count\n",
        "\n",
        "text = \"GAAAATTTTAGAAAATTAGGGAAAATTCTAGAAAATTGTGAAAATTGAAAATTGTGAAAATTGACACGTGATCGCGAAAACTGAAAATTTCGTGAGAAAATTTCGTGAAAATTAGAAAATTCAAGGAAAATTAGAAAATTGAAAATTCAGTTGAAAATTGGGAAAATTGAAAATTGAAAATTGAAAATTAAGAAAATTTAGCCACTATGAAAATTTGAAAATTGTAATAGAAAATTGAAAATTGAAAATTAGGTAGAAAATTGAAAATTATGAAAATTAAGGGCGAAAATTTGAAAATTAGACGAAAATTGAAAATTGAAAATTTGGGAAAATTCGGAAAATTGAAAATTGGAAAATTGGGGTGAAAATTGCTAGAAAATTGAAAATTGGAAAATTGAAAATTTTCGAAAATTTGAAAATTTAGAAAATTGAAAATTCGCGAAAATTGAAAATTTGAAAATTGAAAATTTCAGCATGGAAAATTAAGAAAATTGAAAATTAGAGAAAATTCCGAAAATTAGAAAATTGAAAATTAGAAAATTTATGAAAATTGAAAATTCGTCTGAAAATTTATACCTGAAAATTGAAAATTCCCACTATCGAAAATTCACACTGAAAATTGTAGGAAAATTAGGAAAATTGAAAATTAACGAAAATTTTGAAAATTGGAAAATTCGAAAATTTCGAAAATTGAAAATTCGGGAAAATTCGATTAGAAAATTCAGAAAATTGAAAATTGTGCCGGAAAATTGAAAATTTGTGAAAATTAAGGAGTCGAAAATTGAAAATTTCGAAAATTGAAAATTCGAAAATTGGCGTGAAAATTCGTGGACGAAAATTGAAAATTAGAAAATTCTGCGAAAATTGAAAATTTGAAAATTATGGAAAATTGAAAATTAAGAGAAAATTCAGGCCCGAAAATTAGAAAATTGGGAAAATTCTCGAAAATTTCCAGAAAATTGAAAATTTTGAAAATTGCCCGAAAATTCGAAAATTGAAAATTTAGCCGGTGAAAATTCGAAAATTGAAAATT\"\n",
        "pattern = \"GAAAATTGA\"\n",
        "out = PatternCount(text,pattern)\n",
        "print(out)"
      ],
      "metadata": {
        "colab": {
          "base_uri": "https://localhost:8080/"
        },
        "id": "66XnkHqezYMw",
        "outputId": "bd55b05d-733b-4c25-ad10-4a4fc76d5699"
      },
      "execution_count": 4,
      "outputs": [
        {
          "output_type": "stream",
          "name": "stdout",
          "text": [
            "33\n"
          ]
        }
      ]
    },
    {
      "cell_type": "markdown",
      "source": [
        "Week1 : 1.2.2"
      ],
      "metadata": {
        "id": "P-8Ve3Wt0KKr"
      }
    },
    {
      "cell_type": "code",
      "source": [
        "def FrequencyMap(Text, k):\n",
        "    freq = {}\n",
        "    n = len(Text)\n",
        "    for i in range(n-k+1):\n",
        "        Pattern = Text[i:i+k]\n",
        "        if Pattern in freq:\n",
        "            freq[Pattern] = freq[Pattern] + 1\n",
        "        else:\n",
        "            freq[Pattern] = 1\n",
        "    return freq\n",
        "\n",
        "def FrequentWords(Text, k):\n",
        "    words = []\n",
        "    freq = FrequencyMap(Text, k)\n",
        "    m = max(freq.values())\n",
        "    for key in freq:\n",
        "        if freq[key] == m:\n",
        "            words.append(key)\n",
        "    return words\n",
        "\n",
        "text = \"CATGCCGTCAGGTTGGCATGCCGTCATGCCGTCGCCTTTTCAGGTTGGCAGGTTGGCCGAGTCGGAGTGCATCGCCTTTTCATGCCGTCATGCCGTCGCCTTTTCGCCTTTTCAGGTTGGCCGAGTCGGCGCCTTTTCAGGTTGGCGCCTTTTCATGCCGTAGTGCATCAGGTTGGCATGCCGTCGCCTTTTCCGAGTCGGCCGAGTCGGCAGGTTGGCGCCTTTTCATGCCGTCCGAGTCGGCCGAGTCGGCAGGTTGGCGCCTTTTAGTGCATCAGGTTGGAGTGCATCAGGTTGGCATGCCGTCAGGTTGGCATGCCGTAGTGCATCATGCCGTCAGGTTGGAGTGCATCCGAGTCGGCATGCCGTAGTGCATCCGAGTCGGCATGCCGTCCGAGTCGGCATGCCGTCCGAGTCGGCGCCTTTTAGTGCATCAGGTTGGAGTGCATAGTGCATCAGGTTGGCATGCCGTCGCCTTTTCATGCCGTCAGGTTGGCGCCTTTTCATGCCGTCCGAGTCGGAGTGCATCGCCTTTTCGCCTTTTAGTGCATCAGGTTGGCATGCCGTAGTGCATCGCCTTTTCATGCCGTCCGAGTCGGAGTGCATCATGCCGTCAGGTTGGCGCCTTTTCAGGTTGGCAGGTTGGCCGAGTCGGCAGGTTGGCCGAGTCGGCAGGTTGGCAGGTTGGCAGGTTGGCATGCCGTCAGGTTGGAGTGCATAGTGCATCAGGTTGGCAGGTTGGCGCCTTTTCGCCTTTTAGTGCATCCGAGTCGGCATGCCGTCCGAGTCGGCAGGTTGGCCGAGTCGGCATGCCGTCATGCCGTCAGGTTGGCATGCCGTCGCCTTTTCAGGTTGGCGCCTTTTAGTGCATAGTGCATAGTGCATAGTGCAT\"\n",
        "k = 12\n",
        "out = FrequentWords(text, k)\n",
        "print(out)"
      ],
      "metadata": {
        "colab": {
          "base_uri": "https://localhost:8080/"
        },
        "id": "h9nG7E3CzoJ_",
        "outputId": "5d6d549f-54d0-4fbd-9d91-beda827da34a"
      },
      "execution_count": 7,
      "outputs": [
        {
          "output_type": "stream",
          "name": "stdout",
          "text": [
            "['CAGGTTGGCATG', 'AGGTTGGCATGC', 'GGTTGGCATGCC', 'GTTGGCATGCCG', 'TTGGCATGCCGT']\n"
          ]
        }
      ]
    },
    {
      "cell_type": "code",
      "source": [
        ""
      ],
      "metadata": {
        "id": "2AdZSNiA11BW"
      },
      "execution_count": null,
      "outputs": []
    }
  ]
}