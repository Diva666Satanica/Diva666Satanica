{
  "nbformat": 4,
  "nbformat_minor": 0,
  "metadata": {
    "colab": {
      "name": "bioinformatics_learning",
      "provenance": [],
      "collapsed_sections": [],
      "authorship_tag": "ABX9TyNX1MXAkB81f+nm+bpJ96Sr",
      "include_colab_link": true
    },
    "kernelspec": {
      "name": "python3",
      "display_name": "Python 3"
    },
    "language_info": {
      "name": "python"
    }
  },
  "cells": [
    {
      "cell_type": "markdown",
      "metadata": {
        "id": "view-in-github",
        "colab_type": "text"
      },
      "source": [
        "<a href=\"https://colab.research.google.com/github/Diva666Satanica/Diva666Satanica/blob/main/bioinformatics_learning.ipynb\" target=\"_parent\"><img src=\"https://colab.research.google.com/assets/colab-badge.svg\" alt=\"Open In Colab\"/></a>"
      ]
    },
    {
      "cell_type": "markdown",
      "source": [
        "In lession functions"
      ],
      "metadata": {
        "id": "7INfgeM-M1zu"
      }
    },
    {
      "cell_type": "code",
      "execution_count": 3,
      "metadata": {
        "id": "mT3WxADUL-cd"
      },
      "outputs": [],
      "source": [
        "def PatternCount(Text,Pattern):\n",
        "    count = 0\n",
        "    for i in range(len(Text)-len(Pattern)+1):\n",
        "        if Text[i:i+len(Pattern)] == Pattern:\n",
        "            count = count+1\n",
        "    return count\n",
        "\n",
        "def FrequencyMap(Text, k):\n",
        "    freq = {}\n",
        "    n = len(Text)\n",
        "    for i in range(n-k+1):\n",
        "        Pattern = Text[i:i+k]\n",
        "        if Pattern in freq:\n",
        "            freq[Pattern] = freq[Pattern] + 1\n",
        "        else:\n",
        "            freq[Pattern] = 1\n",
        "    return freq\n",
        "\n",
        "def FrequentWords(Text, k):\n",
        "    words = []\n",
        "    freq = FrequencyMap(Text, k)\n",
        "    m = max(freq.values())\n",
        "    for key in freq:\n",
        "        if freq[key] == m:\n",
        "            words.append(key)\n",
        "    return words\n",
        "\n",
        "def Reverse(Pattern):\n",
        "    rev_pat = ''\n",
        "    for char in Pattern:\n",
        "        rev_pat = char + rev_pat\n",
        "    return rev_pat\n",
        "\n",
        "def Complement(Pattern):\n",
        "    comp_pat = ''\n",
        "    for char in Pattern:\n",
        "        if char == 'A':\n",
        "            c_char = 'T'\n",
        "        elif char == 'T':\n",
        "            c_char = 'A'\n",
        "        elif char == 'G':\n",
        "            c_char = 'C'\n",
        "        elif char == 'C':\n",
        "            c_char = 'G'\n",
        "        \n",
        "        comp_pat = comp_pat + c_char\n",
        "    return comp_pat\n",
        "\n",
        "def ReverseComplement(Pattern):   \n",
        "    Pattern = Reverse(Pattern)\n",
        "    Pattern = Complement(Pattern) \n",
        "    return Pattern\n",
        "\n",
        "def PatternMatching(Pattern, Genome):\n",
        "    positions = [] # output variable\n",
        "    pat_len = len(Pattern)\n",
        "    for i in range(len(Genome) - pat_len + 1):\n",
        "        search_pat = Genome[i:i+pat_len]\n",
        "        if search_pat == Pattern:\n",
        "            positions.append(i)\n",
        "    return positions\n",
        "\n",
        "def SymbolArray(Genome, symbol):\n",
        "    array = {}\n",
        "    n = len(Genome)\n",
        "    ExtendedGenome = Genome + Genome[0:n//2]\n",
        "    for i in range(n):\n",
        "        array[i] = PatternCount(symbol, ExtendedGenome[i:i+(n//2)])\n",
        "    return array\n",
        "\n",
        "def FasterSymbolArray(Genome, symbol):\n",
        "    array = {}\n",
        "    n = len(Genome)\n",
        "    ExtendedGenome = Genome + Genome[0:n//2]\n",
        "\n",
        "    array[0] = PatternCount(symbol, Genome[0:n//2])\n",
        "\n",
        "    for i in range(1, n):\n",
        "        array[i] = array[i-1]\n",
        "\n",
        "        if ExtendedGenome[i-1] == symbol:\n",
        "            array[i] = array[i]-1\n",
        "        if ExtendedGenome[i+(n//2)-1] == symbol:\n",
        "            array[i] = array[i]+1\n",
        "    return array\n",
        "\n",
        "def SkewArray(Genome):\n",
        "    n = len(Genome)\n",
        "    array = numpy.zeros([n+1],dtype=int)\n",
        "    for i in range(1,n+1):\n",
        "        if Genome[i-1] == 'A':\n",
        "            array[i] = array[i-1]\n",
        "        if Genome[i-1] == 'T':\n",
        "            array[i] = array[i-1]\n",
        "        if Genome[i-1] == 'G':\n",
        "            array[i] = array[i-1] + 1\n",
        "        if Genome[i-1] == 'C':\n",
        "            array[i] = array[i-1] -1\n",
        "    return array\n",
        "\n",
        "def MinimumSkew(Genome):\n",
        "    positions = []\n",
        "    skew = SkewArray(Genome)\n",
        "    minval = min(skew)\n",
        "    skewlen = len(skew)\n",
        "    for i in range(skewlen):\n",
        "        if skew[i] == minval:\n",
        "            positions.append(i)\n",
        "    positions = np.array(positions)\n",
        "    return positions\n",
        "\n",
        "def HammingDistance(p, q):\n",
        "    strLen = len(p)\n",
        "    dist = 0\n",
        "    for i in range(strLen):\n",
        "        if p[i] != q[i]:\n",
        "            dist = dist + 1 \n",
        "    return dist\n",
        "\n",
        "def ApproximatePatternMatching(Text, Pattern, d):\n",
        "    positions = [] \n",
        "    txtLen = len(Text)\n",
        "    patLen = len(Pattern)\n",
        "    for i in range(txtLen - patLen + 1):\n",
        "        search_pat = Text[i:i+patLen]\n",
        "        if HammingDistance(search_pat,Pattern) <= d:\n",
        "            positions.append(i)\n",
        "    return positions\n",
        "\n",
        "def ApproximatePatternCount(Pattern, Text, d):\n",
        "    count = 0 \n",
        "    for i in range(len(Text)-len(Pattern)+1):\n",
        "        if HammingDistance(Text[i:i+len(Pattern)],Pattern) <= d:\n",
        "            count = count+1\n",
        "    return count\n",
        "\n",
        "def Count(Motifs):\n",
        "    count = {}\n",
        "    k = len(Motifs[0])\n",
        "    for symbol in \"ACGT\":\n",
        "        count[symbol] = []\n",
        "        for j in range(k):\n",
        "             count[symbol].append(0)\n",
        "    t = len(Motifs)\n",
        "    for i in range(t):\n",
        "        for j in range(k):\n",
        "            symbol = Motifs[i][j]\n",
        "            count[symbol][j] += 1\n",
        "    return count\n",
        "\n",
        "def Profile(Motifs):\n",
        "    t = len(Motifs)\n",
        "    k = len(Motifs[0])\n",
        "    profile = {}\n",
        "    profile = Count(Motifs)\n",
        "    for k,v in profile.items():\n",
        "        v[:] = [x / t for x in v]\n",
        "    return profile\n",
        "\n",
        "def Consensus(Motifs):\n",
        "    consensus = \"\"\n",
        "    k = len(Motifs[0])\n",
        "    count = Count(Motifs)\n",
        "    for j in range(k):\n",
        "        m = 0\n",
        "        frequentSymbol = \"\"\n",
        "        for symbol in \"ACGT\":\n",
        "            if count[symbol][j] > m:\n",
        "                m = count[symbol][j]\n",
        "                frequentSymbol = symbol\n",
        "        consensus += frequentSymbol\n",
        "    return consensus\n",
        "\n",
        "def Score(Motifs):\n",
        "    rows = len(Motifs)\n",
        "    consensus = Consensus(Motifs)\n",
        "    score = 0\n",
        "    col = 0\n",
        "    for i in consensus:\n",
        "        for k in range(rows):\n",
        "            if Motifs[k][col] != i:\n",
        "                score = score + 1\n",
        "        col = col + 1\n",
        "    return score\n",
        "\n",
        "def Pr(Text, Profile):\n",
        "    p = 1\n",
        "    textLen = len(Text)\n",
        "    for i in range(textLen):\n",
        "        p = p * Profile[Text[i]][i]\n",
        "    return p\n",
        "\n",
        "def ProfileMostProbableKmer(text, k, profile):\n",
        "    lenTxt = len(text)\n",
        "    pattProb = {}\n",
        "    for i in range(lenTxt - k + 1):\n",
        "        pattern = text[i:i+k]\n",
        "        pattProb[pattern] = Pr(pattern, profile)\n",
        "    #print(pattProb)\n",
        "    maxProb = max(pattProb, key= lambda x: pattProb[x])\n",
        "    return maxProb\n",
        "\n",
        "def GreedyMotifSearch(Dna, k, t):\n",
        "    BestMotifs = []\n",
        "    for i in range(0, t):\n",
        "        BestMotifs.append(Dna[i][0:k])\n",
        "    \n",
        "    n = len(Dna[0])\n",
        "    for i in range(n-k+1):  \n",
        "      Motifs = []\n",
        "      Motifs.append(Dna[0][i:i+k])\n",
        "\n",
        "      for j in range(1, t):\n",
        "          P = Profile(Motifs[0:j])\n",
        "          #print(P)\n",
        "          Motifs.append(ProfileMostProbableKmer(Dna[j], k, P))\n",
        "      if Score(Motifs) < Score(BestMotifs):\n",
        "              BestMotifs = Motifs\n",
        "    return BestMotifs\n",
        "\n",
        "def CountWithPseudocounts(Motifs):\n",
        "    t = len(Motifs)\n",
        "    k = len(Motifs[0])\n",
        "    count = {}\n",
        "    for symbol in \"ACGT\":\n",
        "        count[symbol] = []\n",
        "        for j in range(k):\n",
        "             count[symbol].append(1)\n",
        "\n",
        "    for i in range(t):\n",
        "        for j in range(k):\n",
        "            symbol = Motifs[i][j]\n",
        "            count[symbol][j] += 1\n",
        "    return count"
      ]
    },
    {
      "cell_type": "code",
      "source": [
        ""
      ],
      "metadata": {
        "id": "ChuqUq52z18x"
      },
      "execution_count": 4,
      "outputs": []
    },
    {
      "cell_type": "code",
      "source": [
        "k = 3 \n",
        "t = 5\n",
        "Dna = ['GGCGTTCAGGCA', \\\n",
        "       'AAGAATCAGTCA', \\\n",
        "       'CAAGGAGTTCGC', \\\n",
        "       'CACGTCAATCAC', \\\n",
        "       'CAATAATATTCG']"
      ],
      "metadata": {
        "id": "I-O8s6Tuz5rO"
      },
      "execution_count": 5,
      "outputs": []
    },
    {
      "cell_type": "code",
      "source": [
        "bestM = GreedyMotifSearch(Dna, k, t)\n",
        "print(bestM)"
      ],
      "metadata": {
        "colab": {
          "base_uri": "https://localhost:8080/"
        },
        "id": "jvOA5hgx1WYO",
        "outputId": "14684d55-e87a-4278-876e-0a15047cba8b"
      },
      "execution_count": 6,
      "outputs": [
        {
          "output_type": "stream",
          "name": "stdout",
          "text": [
            "['CAG', 'CAG', 'CAA', 'CAA', 'CAA']\n"
          ]
        }
      ]
    },
    {
      "cell_type": "markdown",
      "source": [
        "regulatory motif finding"
      ],
      "metadata": {
        "id": "lFGjgUjvNhB4"
      }
    },
    {
      "cell_type": "code",
      "source": [
        "k=15"
      ],
      "metadata": {
        "id": "aIxZDVBtNgt6"
      },
      "execution_count": null,
      "outputs": []
    },
    {
      "cell_type": "code",
      "source": [
        "text1 = \"atgaccgggatactgataaaaaaaagggggggggcgtacacattagataaacgtatgaagtacgttagactcggcgccgccg\"\n",
        "text2 = \"acccctattttttgagcagatttagtgacctggaaaaaaaatttgagtacaaaacttttccgaataaaaaaaaaggggggga\"\n",
        "text3 = \"tgagtatccctgggatgacttaaaaaaaagggggggtgctctcccgatttttgaatatgtaggatcattcgccagggtccga\"\n",
        "text4 = \"gctgagaattggatgaaaaaaaagggggggtccacgcaatcgcgaaccaacgcggacccaaaggcaagaccgataaaggaga\"\n",
        "text5 = \"tcccttttgcggtaatgtgccgggaggctggttacgtagggaagccctaacggacttaataaaaaaaagggggggcttatag\"\n",
        "text6 = \"gtcaatcatgttcttgtgaatggatttaaaaaaaaggggggggaccgcttggcgcacccaaattcagtgtgggcgagcgcaa\"\n",
        "text7 = \"cggttttggcccttgttagaggcccccgtaaaaaaaagggggggcaattatgagagagctaatctatcgcgtgcgtgttcat\"\n",
        "text8 = \"aacttgagttaaaaaaaagggggggctggggcacatacaagaggagtcttccttatcagttaatgctgtatgacactatgta\"\n",
        "text9 = \"ttggcccattggctaaaagcccaacttgacaaatggaagatagaatccttgcataaaaaaaagggggggaccgaaagggaag\"\n",
        "text10 = \"ctggtgagcaacgacagattcttacgtgcattagctcgcttccggggatctaatagcacgaagcttaaaaaaaaggggggga\"\n",
        "motif1 = FrequencyMap(text1, k)\n",
        "motif2 = FrequencyMap(text2, k)\n",
        "motif3 = FrequencyMap(text3, k)\n",
        "motif4 = FrequencyMap(text4, k)\n",
        "motif5 = FrequencyMap(text5, k)\n",
        "motif6 = FrequencyMap(text6, k)\n",
        "motif7 = FrequencyMap(text7, k)\n",
        "motif8 = FrequencyMap(text8, k)\n",
        "motif9 = FrequencyMap(text9, k)\n",
        "motif10 = FrequencyMap(text10, k)\n",
        "\n",
        "def addDict(dict1, dict2):\n",
        "   dict3 = {**dict1, **dict2}\n",
        "   for key, value in dict3.items():\n",
        "       if key in dict1 and key in dict2:\n",
        "               dict3[key] = value + dict1[key]\n",
        "   return dict3\n",
        "\n",
        "motif = addDict(motif1, motif2)\n",
        "motif = addDict(motif, motif3)\n",
        "motif = addDict(motif, motif4)\n",
        "motif = addDict(motif, motif5)\n",
        "motif = addDict(motif, motif6)\n",
        "motif = addDict(motif, motif7)\n",
        "motif = addDict(motif, motif9)\n",
        "motif = addDict(motif, motif10)\n",
        "\n",
        "print(\" no . Unique {}-mers appearing in all 10 upsteam sequences is \".format(k), len(motif))\n",
        "freqMer = max(motif, key= lambda x: motif[x])\n",
        "print(\"Maximum occuring {}-mer is \".format(k), freqMer)\n",
        "print(freqMer, \" is apprearing a total of \", motif[freqMer], \" times.\")"
      ],
      "metadata": {
        "colab": {
          "base_uri": "https://localhost:8080/"
        },
        "id": "V2fMx30VNgoh",
        "outputId": "33caa595-b821-4ff7-ecf5-dc046c305e8b"
      },
      "execution_count": null,
      "outputs": [
        {
          "output_type": "stream",
          "name": "stdout",
          "text": [
            " no . Unique 15-mers appearing in all 10 upsteam sequences is  588\n",
            "Maximum occuring 15-mer is  aaaaaaaaggggggg\n",
            "aaaaaaaaggggggg  is apprearing a total of  9  times.\n"
          ]
        }
      ]
    },
    {
      "cell_type": "markdown",
      "source": [
        "TB virus DosR regulator motif finding"
      ],
      "metadata": {
        "id": "bsnAdd70aAGq"
      }
    },
    {
      "cell_type": "code",
      "source": [
        "UpStream10 = ['GCGCCCCGCCCGGACAGCCATGCGCTAACCCTGGCTTCGATGGCGCCGGCTCAGTTAGGGCCGGAAGTCCCCAATGTGGCAGACCTTTCGCCCCTGGCGGACGAATGACCCCAGTGGCCGGGACTTCAGGCCCTATCGGAGGGCTCCGGCGCGGTGGTCGGATTTGTCTGTGGAGGTTACACCCCAATCGCAAGGATGCATTATGACCAGCGAGCTGAGCCTGGTCGCCACTGGAAAGGGGAGCAACATC', \\\n",
        "              'CCGATCGGCATCACTATCGGTCCTGCGGCCGCCCATAGCGCTATATCCGGCTGGTGAAATCAATTGACAACCTTCGACTTTGAGGTGGCCTACGGCGAGGACAAGCCAGGCAAGCCAGCTGCCTCAACGCGCGCCAGTACGGGTCCATCGACCCGCGGCCCACGGGTCAAACGACCCTAGTGTTCGCTACGACGTGGTCGTACCTTCGGCAGCAGATCAGCAATAGCACCCCGACTCGAGGAGGATCCCG', \\\n",
        "              'ACCGTCGATGTGCCCGGTCGCGCCGCGTCCACCTCGGTCATCGACCCCACGATGAGGACGCCATCGGCCGCGACCAAGCCCCGTGAAACTCTGACGGCGTGCTGGCCGGGCTGCGGCACCTGATCACCTTAGGGCACTTGGGCCACCACAACGGGCCGCCGGTCTCGACAGTGGCCACCACCACACAGGTGACTTCCGGCGGGACGTAAGTCCCTAACGCGTCGTTCCGCACGCGGTTAGCTTTGCTGCC', \\\n",
        "              'GGGTCAGGTATATTTATCGCACACTTGGGCACATGACACACAAGCGCCAGAATCCCGGACCGAACCGAGCACCGTGGGTGGGCAGCCTCCATACAGCGATGACCTGATCGATCATCGGCCAGGGCGCCGGGCTTCCAACCGTGGCCGTCTCAGTACCCAGCCTCATTGACCCTTCGACGCATCCACTGCGCGTAAGTCGGCTCAACCCTTTCAAACCGCTGGATTACCGACCGCAGAAAGGGGGCAGGAC', \\\n",
        "              'GTAGGTCAAACCGGGTGTACATACCCGCTCAATCGCCCAGCACTTCGGGCAGATCACCGGGTTTCCCCGGTATCACCAATACTGCCACCAAACACAGCAGGCGGGAAGGGGCGAAAGTCCCTTATCCGACAATAAAACTTCGCTTGTTCGACGCCCGGTTCACCCGATATGCACGGCGCCCAGCCATTCGTGACCGACGTCCCCAGCCCCAAGGCCGAACGACCCTAGGAGCCACGAGCAATTCACAGCG', \\\n",
        "              'CCGCTGGCGACGCTGTTCGCCGGCAGCGTGCGTGACGACTTCGAGCTGCCCGACTACACCTGGTGACCACCGCCGACGGGCACCTCTCCGCCAGGTAGGCACGGTTTGTCGCCGGCAATGTGACCTTTGGGCGCGGTCTTGAGGACCTTCGGCCCCACCCACGAGGCCGCCGCCGGCCGATCGTATGACGTGCAATGTACGCCATAGGGTGCGTGTTACGGCGATTACCTGAAGGCGGCGGTGGTCCGGA', \\\n",
        "              'GGCCAACTGCACCGCGCTCTTGATGACATCGGTGGTCACCATGGTGTCCGGCATGATCAACCTCCGCTGTTCGATATCACCCCGATCTTTCTGAACGGCGGTTGGCAGACAACAGGGTCAATGGTCCCCAAGTGGATCACCGACGGGCGCGGACAAATGGCCCGCGCTTCGGGGACTTCTGTCCCTAGCCCTGGCCACGATGGGCTGGTCGGATCAAAGGCATCCGTTTCCATCGATTAGGAGGCATCAA', \\\n",
        "              'GTACATGTCCAGAGCGAGCCTCAGCTTCTGCGCAGCGACGGAAACTGCCACACTCAAAGCCTACTGGGCGCACGTGTGGCAACGAGTCGATCCACACGAAATGCCGCCGTTGGGCCGCGGACTAGCCGAATTTTCCGGGTGGTGACACAGCCCACATTTGGCATGGGACTTTCGGCCCTGTCCGCGTCCGTGTCGGCCAGACAAGCTTTGGGCATTGGCCACAATCGGGCCACAATCGAAAGCCGAGCAG', \\\n",
        "              'GGCAGCTGTCGGCAACTGTAAGCCATTTCTGGGACTTTGCTGTGAAAAGCTGGGCGATGGTTGTGGACCTGGACGAGCCACCCGTGCGATAGGTGAGATTCATTCTCGCCCTGACGGGTTGCGTCTGTCATCGGTCGATAAGGACTAACGGCCCTCAGGTGGGGACCAACGCCCCTGGGAGATAGCGGTCCCCGCCAGTAACGTACCGCTGAACCGACGGGATGTATCCGCCCCAGCGAAGGAGACGGCG', \\\n",
        "              'TCAGCACCATGACCGCCTGGCCACCAATCGCCCGTAACAAGCGGGACGTCCGCGACGACGCGTGCGCTAGCGCCGTGGCGGTGACAACGACCAGATATGGTCCGAGCACGCGGGCGAACCTCGTGTTCTGGCCTCGGCCAGTTGTGTAGAGCTCATCGCTGTCATCGAGCGATATCCGACCACTGATCCAAGTCGGGGGCTCTGGGGACCGAAGTCCCCGGGCTCGGAGCTATCGGACCTCACGATCACC']"
      ],
      "metadata": {
        "id": "ccaCnTulNgid"
      },
      "execution_count": 7,
      "outputs": []
    },
    {
      "cell_type": "code",
      "source": [
        "k=15\n",
        "t=10\n",
        "bestMotif = GreedyMotifSearch(UpStream10, k, t)\n",
        "print(bestMotif)"
      ],
      "metadata": {
        "id": "AWozmqC5M0Rx",
        "colab": {
          "base_uri": "https://localhost:8080/"
        },
        "outputId": "c5bd530f-4e74-4f17-cb35-f7a065574c43"
      },
      "execution_count": 12,
      "outputs": [
        {
          "output_type": "stream",
          "name": "stdout",
          "text": [
            "['GTTAGGGCCGGAAGT', 'CCGATCGGCATCACT', 'ACCGTCGATGTGCCC', 'GGGTCAGGTATATTT', 'GTGACCGACGTCCCC', 'CTGTTCGCCGGCAGC', 'CTGTTCGATATCACC', 'GTACATGTCCAGAGC', 'GCGATAGGTGAGATT', 'CTCATCGCTGTCATC']\n"
          ]
        }
      ]
    },
    {
      "cell_type": "code",
      "source": [
        "import math\n",
        "probList = [0.2, 0.2, 0.9, 0.1, 0.1, 0.1, 0.3, 0.1, 0.6, 0.4, 0.1, 0.2, 0.4, 0.6, 1.0, 1.0, 0.9, 0.9, 0.1, 0.7, 0.2, 0.1, 0.1, 0.5, 0.8, 0.7, 0.3, 0.4]\n",
        "entFunc = sum(map(lambda y : y*math.log2(y), probList))\n",
        "print(entFunc)"
      ],
      "metadata": {
        "colab": {
          "base_uri": "https://localhost:8080/"
        },
        "id": "-WsqwRiwa3vr",
        "outputId": "3cfc70bb-0acc-4a71-91d0-c3aec2471a20"
      },
      "execution_count": 24,
      "outputs": [
        {
          "output_type": "stream",
          "name": "stdout",
          "text": [
            "-9.916290005356972\n"
          ]
        }
      ]
    },
    {
      "cell_type": "code",
      "source": [
        "nums1 = [2,3,5,6,76,4,3,2]\n",
        "sq = list(map(lambda a : a*a, nums1))\n",
        "sq2 = sum(map(lambda a : a*a, nums1))\n",
        "print(sq, sq2)"
      ],
      "metadata": {
        "colab": {
          "base_uri": "https://localhost:8080/"
        },
        "id": "prgzDWpflt5b",
        "outputId": "5219514e-fd18-4094-d881-bc8c3452cd35"
      },
      "execution_count": 18,
      "outputs": [
        {
          "output_type": "stream",
          "name": "stdout",
          "text": [
            "[4, 9, 25, 36, 5776, 16, 9, 4] 5879\n"
          ]
        }
      ]
    },
    {
      "cell_type": "code",
      "source": [
        "Profile = {'A' : [0.4,0.3,0.0,0.1,0.0,0.9], \\\n",
        "           'C' : [0.2,0.3,0.0,0.4,0.0,0.1], \\\n",
        "           'G' : [0.1,0.3,1.0,0.1,0.5,0.0], \\\n",
        "           'T' : [0.3,0.1,0.0,0.4,0.5,0.0]}\n",
        "Text = 'TCGGTA'\n",
        "out = Pr(Text, Profile)\n",
        "print(out)"
      ],
      "metadata": {
        "colab": {
          "base_uri": "https://localhost:8080/"
        },
        "id": "BC-7OKNrmhWq",
        "outputId": "f4b5b537-b9e4-4d14-ab89-99bc0b29d74c"
      },
      "execution_count": 27,
      "outputs": [
        {
          "output_type": "stream",
          "name": "stdout",
          "text": [
            "0.00405\n"
          ]
        }
      ]
    },
    {
      "cell_type": "code",
      "source": [
        ""
      ],
      "metadata": {
        "id": "_xGl4d61rvB8"
      },
      "execution_count": null,
      "outputs": []
    }
  ]
}