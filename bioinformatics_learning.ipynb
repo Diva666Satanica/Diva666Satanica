{
  "nbformat": 4,
  "nbformat_minor": 0,
  "metadata": {
    "colab": {
      "name": "bioinformatics_learning",
      "provenance": [],
      "authorship_tag": "ABX9TyOmjbHJKAJg6FoCagb8j9D7",
      "include_colab_link": true
    },
    "kernelspec": {
      "name": "python3",
      "display_name": "Python 3"
    },
    "language_info": {
      "name": "python"
    }
  },
  "cells": [
    {
      "cell_type": "markdown",
      "metadata": {
        "id": "view-in-github",
        "colab_type": "text"
      },
      "source": [
        "<a href=\"https://colab.research.google.com/github/Diva666Satanica/Diva666Satanica/blob/main/bioinformatics_learning.ipynb\" target=\"_parent\"><img src=\"https://colab.research.google.com/assets/colab-badge.svg\" alt=\"Open In Colab\"/></a>"
      ]
    },
    {
      "cell_type": "code",
      "execution_count": null,
      "metadata": {
        "id": "mT3WxADUL-cd"
      },
      "outputs": [],
      "source": [
        ""
      ]
    }
  ]
}